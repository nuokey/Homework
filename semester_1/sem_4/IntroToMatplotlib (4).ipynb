{
 "cells": [
  {
   "cell_type": "markdown",
   "metadata": {
    "id": "oVE-OomER3gR"
   },
   "source": [
    "[← Back to Index](index)\n",
    "\n",
    "# Matplotlib tutorial\n",
    "\n",
    "This notebook provides an overview of and playground for **matplotlib.pyplot**, a visualization framework for Python.\n",
    "\n",
    "## Using this notebook\n",
    "\n",
    "The tutorial is best viewed in an interactive Jupyter Notebook environment so you can edit, modify, run, and iterate on the code yourself—the best way to learn! If you're reading a static (non-interactive) version of this page on our website, you can open an interactive version with a single click using [Binder](https://mybinder.org/v2/gh/makeabilitylab/signals/master?filepath=Tutorials%2FIntroToMatplotlib.ipynb) or [Colab](https://colab.research.google.com/github/makeabilitylab/signals/blob/master/Tutorials/IntroToMatplotlib.ipynb). You can also clone our [GitHub repository](https://github.com/makeabilitylab/signals) and run this notebook locally using [Jupyter Notebook](https://jupyter.org/).\n",
    "\n",
    "\n",
    "## Acknowledgments\n",
    "This tutorial is based on: \n",
    "\n",
    "- Matplotlib's official [usage guide](https://matplotlib.org/tutorials/introductory/usage.html#sphx-glr-tutorials-introductory-usage-py)\n",
    "- Matplotlib's official [Pyplot tutorial1](https://matplotlib.org/users/pyplot_tutorial.html) and [Pyplot tutorial2](https://matplotlib.org/tutorials/introductory/pyplot.html). See also their \n",
    "[Tutorials page](https://matplotlib.org/tutorials/index.html), which provides additional in-depth tutorials, and their [gallery](https://matplotlib.org/tutorials/introductory/sample_plots.html) of example plots.\n",
    "- Chapter 4 of Jake VanderPlas' *Python Data Science Handbook* on [Visualization with Matplotlib](https://jakevdp.github.io/PythonDataScienceHandbook/index.html#4.-Visualization-with-Matplotlib)\n",
    "- Stanford CSE231n [Python Numpy Tutorial](https://cs231n.github.io/python-numpy-tutorial/#matplotlib)\n",
    "\n",
    "## About this Notebook\n",
    "\n",
    "This Notebook derives from the above sources. Updates were written by Professor Jon E. Froehlich at the University of Washington along with feedback from students. It is made available freely online as an [open educational resource](https://en.wikipedia.org/wiki/Open_educational_resources) at the teaching website: https://makeabilitylab.github.io/physcomp/. \n",
    "\n",
    "The [website](https://github.com/makeabilitylab/physcomp), [Notebook code](https://github.com/makeabilitylab/signals), and [Arduino code](https://github.com/makeabilitylab/arduino) are all open source using the MIT license.\n",
    "\n",
    "Please file a GitHub Issue or Pull Request for changes/comments or email me directly.\n",
    "\n",
    "## Anatomy of a matplotlib chart\n",
    "<img src=\"https://matplotlib.org/_images/anatomy.png\" width=\"500\">"
   ]
  },
  {
   "cell_type": "markdown",
   "metadata": {
    "id": "hJ0kuNrGR3gY"
   },
   "source": [
    "## The basics\n",
    "[matplotlib.pyplot](https://matplotlib.org/api/pyplot_api.html#module-matplotlib.pyplot) provides a MATLAB-like plotting environment for Python. It's easy and fast to plot a range of visualizations. For example, let's plot the array `[1,2,3,4]`:"
   ]
  },
  {
   "cell_type": "code",
   "execution_count": null,
   "metadata": {
    "id": "C-zEh6SsR3gZ",
    "outputId": "2850684f-c421-4645-fbaa-b2ef671b9145",
    "scrolled": true
   },
   "outputs": [],
   "source": [
    "import matplotlib.pyplot as plt\n",
    "plt.plot([1,2,3,4])\n",
    "plt.show()"
   ]
  },
  {
   "cell_type": "markdown",
   "metadata": {
    "id": "gsNdUStmR3gc"
   },
   "source": [
    "### Adding titles, axis labels, and a legend\n",
    "Let's redraw this plot but now with a title, axis labels, and a legend:"
   ]
  },
  {
   "cell_type": "code",
   "execution_count": null,
   "metadata": {
    "id": "Oo-mZfUOR3gd",
    "outputId": "d4fdf512-1a3a-4dba-be1e-774f9966a23b"
   },
   "outputs": [],
   "source": [
    "x_vals = [1,2,3,4]\n",
    "plt.plot(x_vals, label=\"An awesome line\")\n",
    "plt.ylabel('The y-axis label!')\n",
    "plt.xlabel('The x-axis label!')\n",
    "plt.title(\"The title of the graph!\")\n",
    "plt.legend()\n",
    "plt.show()"
   ]
  },
  {
   "cell_type": "markdown",
   "metadata": {
    "id": "XmGgVCMJR3ge"
   },
   "source": [
    "### Adding both x and y data\n",
    "\n",
    "You may be wondering why the x-axis ranges from 0-3 and the y-axis from 1-4. If you provide a single list or array to the [plot()](https://matplotlib.org/api/pyplot_api.html#matplotlib.pyplot.plot) command, matplotlib assumes it is a sequence of y values, and automatically generates the x values for you.\n",
    "\n",
    "[plot()](https://matplotlib.org/api/pyplot_api.html#matplotlib.pyplot.plot) is a versatile command, and will take an arbitrary number of arguments. For example, to plot x versus y, you can issue the command:"
   ]
  },
  {
   "cell_type": "code",
   "execution_count": null,
   "metadata": {
    "id": "wE0Lpgn-R3ge",
    "outputId": "d99e9d3c-4474-4586-eed8-8be0b13528ef"
   },
   "outputs": [],
   "source": [
    "x_vals = [1,2,3,4]\n",
    "y_vals = [1, 4, 9, 16]\n",
    "plt.plot(x_vals, y_vals)\n",
    "plt.show()"
   ]
  },
  {
   "cell_type": "markdown",
   "metadata": {
    "id": "WnoSOzGgR3gf"
   },
   "source": [
    "Here's another example using NumPy:"
   ]
  },
  {
   "cell_type": "code",
   "execution_count": null,
   "metadata": {
    "id": "e5w2voa1R3gg",
    "outputId": "b7f385fb-4daa-4469-bfb8-88c0e6214a33"
   },
   "outputs": [],
   "source": [
    "import numpy as np\n",
    "import matplotlib.pyplot as plt\n",
    "\n",
    "# Compute the x and y coordinates for points on a sine curve\n",
    "x = np.arange(0, 3 * np.pi, 0.1)\n",
    "y = np.sin(x)\n",
    "\n",
    "# Plot the points using matplotlib\n",
    "plt.plot(x, y)\n",
    "plt.show()  # You must call plt.show() to make graphics appear."
   ]
  },
  {
   "cell_type": "markdown",
   "metadata": {
    "id": "y9kOMR_QR3gh"
   },
   "source": [
    "### Setting axis ranges\n",
    "You can set the [xmin, xmax, ymin, ymax] of the plot using the [axis()](https://matplotlib.org/api/pyplot_api.html#matplotlib.pyplot.axis) command. So, for example:"
   ]
  },
  {
   "cell_type": "code",
   "execution_count": null,
   "metadata": {
    "id": "JCp2zAcZR3gh",
    "outputId": "9d26142d-b1ca-41e1-c467-670481a20a26"
   },
   "outputs": [],
   "source": [
    "import matplotlib.pyplot as plt\n",
    "plt.plot(x_vals, y_vals)\n",
    "plt.axis([0, 6, 0, 20])\n",
    "plt.show()"
   ]
  },
  {
   "cell_type": "markdown",
   "metadata": {
    "id": "4JNh0XR4R3gi"
   },
   "source": [
    "### Resizing the plot\n",
    "We can also resize the plot using figsize. This will be important later when we make multiple plots together."
   ]
  },
  {
   "cell_type": "code",
   "execution_count": null,
   "metadata": {
    "id": "pp5POM8GR3gi",
    "outputId": "7abf6b9c-d883-4a72-e45d-ad1228a128d7"
   },
   "outputs": [],
   "source": [
    "import random \n",
    "\n",
    "num_rand_data_points = 7\n",
    "plt.figure(figsize=(10, 5), facecolor='w', edgecolor='k')\n",
    "x_vals = [random.randrange(1, 50, 1) for i in range(num_rand_data_points)]\n",
    "plt.plot(x_vals, label=\"Random data\")\n",
    "plt.ylabel('The y-axis label!')\n",
    "plt.xlabel('The x-axis label!')\n",
    "plt.title(\"{} random data points!\".format(num_rand_data_points))\n",
    "plt.legend()\n",
    "plt.show()"
   ]
  },
  {
   "cell_type": "markdown",
   "metadata": {
    "id": "ruvL8iCGR3gj"
   },
   "source": [
    "### Plotting multiple values \n",
    "You can plot multiple lines too:"
   ]
  },
  {
   "cell_type": "code",
   "execution_count": null,
   "metadata": {
    "id": "E8KR8JfhR3gj",
    "outputId": "1f7b269c-e054-478a-fc88-3c8f5ee82a69"
   },
   "outputs": [],
   "source": [
    "# setup the data\n",
    "(x1_vals, y1_vals) = ([1,2,3,4], [1, 4, 9, 16])\n",
    "(x2_vals, y2_vals) = ([0,1,1.5,7], [1,4,12,16])\n",
    "(x3_vals, y3_vals) = ([0,1,3,5], [3,4.5,7,18])\n",
    "\n",
    "# plot the data\n",
    "plt.figure(figsize=(10, 5))\n",
    "plt.plot(x1_vals, y1_vals)\n",
    "plt.plot(x2_vals, y2_vals)\n",
    "plt.plot(x3_vals, y3_vals)\n",
    "plt.show()"
   ]
  },
  {
   "cell_type": "markdown",
   "metadata": {
    "id": "aXGECc_GR3gk"
   },
   "source": [
    "An even more compact way of doing this:"
   ]
  },
  {
   "cell_type": "code",
   "execution_count": null,
   "metadata": {
    "id": "e5_jFzITR3gk",
    "outputId": "253b556b-b333-4b9a-cd7e-dad470ef1e48"
   },
   "outputs": [],
   "source": [
    "plt.figure(figsize=(10, 5))\n",
    "plt.plot(x1_vals, y1_vals, x2_vals, y2_vals, x3_vals, y3_vals)\n",
    "plt.show()"
   ]
  },
  {
   "cell_type": "markdown",
   "metadata": {
    "id": "DsXdYv4RR3gl"
   },
   "source": [
    "And again with NumPy:"
   ]
  },
  {
   "cell_type": "code",
   "execution_count": null,
   "metadata": {
    "id": "yr8JXT1GR3gl",
    "outputId": "229b9e89-6f25-42c6-93a3-9f0a624d7edc"
   },
   "outputs": [],
   "source": [
    "import numpy as np\n",
    "import matplotlib.pyplot as plt\n",
    "\n",
    "# Compute the x and y coordinates for points on sine and cosine curves\n",
    "x = np.arange(0, 3 * np.pi, 0.1)\n",
    "y_sin = np.sin(x)\n",
    "y_cos = np.cos(x)\n",
    "\n",
    "# Plot the points using matplotlib\n",
    "plt.plot(x, y_sin)\n",
    "plt.plot(x, y_cos)\n",
    "plt.xlabel('x axis label')\n",
    "plt.ylabel('y axis label')\n",
    "plt.title('Sine and Cosine')\n",
    "plt.legend(['Sine', 'Cosine'])\n",
    "plt.show()"
   ]
  },
  {
   "cell_type": "markdown",
   "metadata": {
    "id": "PrlGGs_eR3gl"
   },
   "source": [
    "### Making the plots interactive using magic!\n",
    "\n",
    "To make the matplotlib plots interactive, you can use special [\"magic\" commands](https://ipython.readthedocs.io/en/stable/interactive/magics.html) that configure the IPython kernel. These commands are prefixed by `%`.\n",
    "\n",
    "For example, writing `%matplotlib notebook` on its own line in a cell will make matplotlib plots interactive ([StackOverflow](https://stackoverflow.com/a/41125787)). That is, you'll be able to zoom into plots, etc. To switch back to inline (non-interactive plots), type `%matplotlib inline` in a cell ([StackOverflow](https://stackoverflow.com/a/34605935)). To see all magic commands, type: `?%matplotlib`. \n",
    "\n",
    "See Jake VanderPlas's Python Data Science Handbook for more ([link](https://jakevdp.github.io/PythonDataScienceHandbook/01.03-magic-commands.html))."
   ]
  },
  {
   "cell_type": "code",
   "execution_count": null,
   "metadata": {
    "id": "8QKoOvEMR3gm",
    "outputId": "6f6ec141-ad4a-477e-f9af-402ab1732aaf"
   },
   "outputs": [],
   "source": [
    "%matplotlib notebook\n",
    "import numpy as np\n",
    "import matplotlib.pyplot as plt\n",
    "\n",
    "# Compute the x and y coordinates for points on sine and cosine curves\n",
    "x = np.arange(0, 5 * np.pi, 0.01)\n",
    "y_sin = np.sin(x)\n",
    "y_cos = np.cos(x)\n",
    "\n",
    "# Plot the points using matplotlib\n",
    "plt.plot(x, y_sin)\n",
    "plt.plot(x, y_cos)\n",
    "plt.xlabel('x axis label')\n",
    "plt.ylabel('y axis label')\n",
    "plt.title('Sine and Cosine')\n",
    "plt.legend(['Sine', 'Cosine'])\n",
    "plt.show();"
   ]
  },
  {
   "cell_type": "markdown",
   "metadata": {
    "id": "IeBU2D7pR3gm"
   },
   "source": [
    "## Controlling Line Properties\n",
    "- https://matplotlib.org/users/pyplot_tutorial.html#controlling-line-properties\n",
    "- https://matplotlib.org/api/lines_api.html#matplotlib.lines.Line2D\n",
    "\n",
    "Lines have many attributes that you can set: linewidth, dash style, marker, antialiasing, alpha, and more; see [matplotlib.lines.Line2D](https://matplotlib.org/api/lines_api.html#matplotlib.lines.Line2D). There are several ways to set line properties"
   ]
  },
  {
   "cell_type": "code",
   "execution_count": null,
   "metadata": {
    "id": "aCgUFyx9R3gn",
    "outputId": "5e19ba24-2faf-4b0c-894c-eae4d4d10fb9"
   },
   "outputs": [],
   "source": [
    "(x1_vals, y1_vals) = ([1,2,3,4], random.sample(range(0, 5), 4))\n",
    "(x2_vals, y2_vals) = ([1,2,3,4], random.sample(range(0, 5), 4))\n",
    "(x3_vals, y3_vals) = ([1,2,3,4], random.sample(range(0, 5), 4))\n",
    "\n",
    "line1 = plt.plot(x1_vals, y1_vals)\n",
    "line2 = plt.plot(x2_vals, y2_vals)\n",
    "line3 = plt.plot(x3_vals, y3_vals)\n",
    "plt.setp(line1, color='r', linewidth=2.0, marker='D', alpha=0.5)\n",
    "plt.setp(line2, color='b', linewidth=2.0, marker='X', alpha=0.5)\n",
    "plt.show()"
   ]
  },
  {
   "cell_type": "code",
   "execution_count": null,
   "metadata": {
    "id": "u93Ik6aTR3gn",
    "outputId": "f11ce4e5-d315-4028-e6ef-acee345f7a72"
   },
   "outputs": [],
   "source": [
    "lines = plt.plot(x1_vals, y1_vals, x2_vals, y2_vals, x3_vals, y3_vals)\n",
    "plt.setp(lines[0], color='r', linewidth=2.0, marker='D', alpha=0.5)\n",
    "plt.setp(lines[1], color='b', linewidth=2.0, marker='X', alpha=0.5)\n",
    "plt.show()"
   ]
  },
  {
   "cell_type": "markdown",
   "metadata": {
    "id": "3VChaCsPR3gn"
   },
   "source": [
    "You can also set these properties using keyword args in the plot function:"
   ]
  },
  {
   "cell_type": "code",
   "execution_count": null,
   "metadata": {
    "id": "rUcSxgyTR3go",
    "outputId": "61252d67-a54c-4bd9-cf66-1864c0552ed0"
   },
   "outputs": [],
   "source": [
    "line1 = plt.plot(x1_vals, y1_vals, color='r', linewidth=2.0, marker='D', alpha=0.5)\n",
    "line2 = plt.plot(x2_vals, y2_vals, color='b', linewidth=2.0, marker='X', alpha=0.5)\n",
    "line3 = plt.plot(x3_vals, y3_vals)\n",
    "plt.show()"
   ]
  },
  {
   "cell_type": "markdown",
   "metadata": {
    "id": "u5yyAd5NR3go"
   },
   "source": [
    "## Plotting multiple charts\n",
    "\n",
    "You can create multiple plots within the same figure by using [`subplot`](https://matplotlib.org/gallery/subplots_axes_and_figures/subplot.html)\n",
    "\n",
    "**References:**\n",
    "- https://jakevdp.github.io/PythonDataScienceHandbook/04.08-multiple-subplots.html\n",
    "- https://matplotlib.org/gallery/subplots_axes_and_figures/subplot.html\n",
    "- https://matplotlib.org/devdocs/gallery/subplots_axes_and_figures/subplots_demo.html"
   ]
  },
  {
   "cell_type": "code",
   "execution_count": null,
   "metadata": {
    "id": "RvN99oLNR3go",
    "outputId": "63f80123-edf7-49c2-9963-64e86d71bfcb"
   },
   "outputs": [],
   "source": [
    "import numpy as np\n",
    "import matplotlib.pyplot as plt\n",
    "\n",
    "# subplot adds a subplot to the figure. To set the subplot location, pass\n",
    "# in a three digit integer (< 10) where the first digit is the number of rows, \n",
    "# the second the number of columns, and the third the index of the \n",
    "# subplot. So, plt.subplot(211) refers to a two row plot with one \n",
    "# column and selects the subplot index. This is equivalent to \n",
    "# plt.subplot(2,1,1). See: \n",
    "#   https://matplotlib.org/api/_as_gen/matplotlib.pyplot.subplot.html\n",
    "plt.subplot(211) \n",
    "plt.plot(x1_vals, y1_vals)\n",
    "\n",
    "plt.subplot(212)\n",
    "plt.plot(x2_vals, y2_vals, 'r-') # the 'r-' colors the line red\n",
    "plt.show()"
   ]
  },
  {
   "cell_type": "code",
   "execution_count": null,
   "metadata": {
    "id": "bNqR139LR3gp",
    "outputId": "7b3a62e7-e4a0-4a42-afc8-5a46f3101524"
   },
   "outputs": [],
   "source": [
    "# From: https://jakevdp.github.io/PythonDataScienceHandbook/04.08-multiple-subplots.html#plt.subplot:-Simple-Grids-of-Subplots\n",
    "for i in range(1, 7):\n",
    "    plt.subplot(2, 3, i)\n",
    "    plt.text(0.5, 0.5, str((2, 3, i)),\n",
    "             fontsize=18, ha='center')"
   ]
  },
  {
   "cell_type": "code",
   "execution_count": null,
   "metadata": {
    "id": "mcTdCIheR3gp",
    "outputId": "c11d490b-4bb4-472b-bacf-7e15b4efdc50"
   },
   "outputs": [],
   "source": [
    "fig = plt.figure()\n",
    "fig.subplots_adjust(hspace=0.4, wspace=0.4)\n",
    "for i in range(1, 7):\n",
    "    ax = fig.add_subplot(2, 3, i)\n",
    "    ax.text(0.5, 0.5, str((2, 3, i)),\n",
    "           fontsize=18, ha='center')"
   ]
  },
  {
   "cell_type": "markdown",
   "metadata": {
    "id": "_tAzlX-LR3gp"
   },
   "source": [
    "I typically make my grid of plots in using plt.subplots() (note the **s** in subplots)"
   ]
  },
  {
   "cell_type": "code",
   "execution_count": null,
   "metadata": {
    "id": "ODvc9M7NR3gp",
    "outputId": "7a86aef3-afae-4f4c-f603-86a1ad0e6ab2"
   },
   "outputs": [],
   "source": [
    "# https://matplotlib.org/api/_as_gen/matplotlib.pyplot.subplots.html\n",
    "fig, axes = plt.subplots(2, 3) # same as plt.subplots(nrows=2, ncols=3)"
   ]
  },
  {
   "cell_type": "code",
   "execution_count": null,
   "metadata": {
    "id": "2y2I9GfZR3gq",
    "outputId": "2c307e9e-f40d-43fe-88e6-46bc2607a5f4"
   },
   "outputs": [],
   "source": [
    "# We can make more room using figsize\n",
    "fig, axes = plt.subplots(2, 3, figsize=(10,5))\n",
    "fig.subplots_adjust(hspace=0.4) # add in more height between subplots"
   ]
  },
  {
   "cell_type": "code",
   "execution_count": null,
   "metadata": {
    "id": "HvrmivssR3gq",
    "outputId": "8d5a4018-f976-4e56-dd46-01beac03759c"
   },
   "outputs": [],
   "source": [
    "# Grid of different sizes\n",
    "# See: https://matplotlib.org/users/gridspec.html\n",
    "plt.figure(figsize=(20,10))\n",
    "ax1 = plt.subplot2grid((3, 3), (0, 0), colspan=3)\n",
    "ax2 = plt.subplot2grid((3, 3), (1, 0), colspan=2)\n",
    "ax3 = plt.subplot2grid((3, 3), (1, 2), rowspan=2)\n",
    "ax4 = plt.subplot2grid((3, 3), (2, 0))\n",
    "ax5 = plt.subplot2grid((3, 3), (2, 1))"
   ]
  },
  {
   "cell_type": "code",
   "execution_count": null,
   "metadata": {
    "id": "lpFNOTnYR3gq",
    "outputId": "f6fdfb51-1219-4493-f7f9-d57f70e1c39c"
   },
   "outputs": [],
   "source": [
    "# Grid of different sizes\n",
    "# See: https://matplotlib.org/users/gridspec.html\n",
    "plt.figure(figsize=(20,10))\n",
    "ax1 = plt.subplot2grid((2, 2), (0, 0))\n",
    "ax2 = plt.subplot2grid((2, 2), (0, 1))\n",
    "ax3 = plt.subplot2grid((2, 2), (1, 0), colspan=2)\n",
    "\n"
   ]
  },
  {
   "cell_type": "markdown",
   "metadata": {
    "id": "990s5Vs0R3gr"
   },
   "source": [
    "## Specifying Colors, Markers\n",
    "\n",
    "### Colors\n",
    "- https://matplotlib.org/2.0.2/api/colors_api.html\n",
    "- https://matplotlib.org/users/colors.html\n",
    "\n",
    "In almost all places in matplotlib where a color can be specified by the user it can be provided as:\n",
    "\n",
    "- an RGB or RGBA tuple of float values in [0, 1] (e.g., (0.1, 0.2, 0.5) or (0.1, 0.2, 0.5, 0.3))\n",
    "- a hex RGB or RGBA string (e.g., '#0F0F0F' or '#0F0F0F0F')\n",
    "- a string representation of a float value in [0, 1] inclusive for gray level (e.g., '0.5')\n",
    "one of {'b', 'g', 'r', 'c', 'm', 'y', 'k', 'w'}\n",
    "- a X11/CSS4 color name\n",
    "- a name from the xkcd color survey prefixed with 'xkcd:' (e.g., 'xkcd:sky blue')\n",
    "- one of {'C0', 'C1', 'C2', 'C3', 'C4', 'C5', 'C6', 'C7', 'C8', 'C9'}\n",
    "- one of {'tab:blue', 'tab:orange', 'tab:green', 'tab:red', 'tab:purple', 'tab:brown', 'tab:pink', 'tab:gray', 'tab:olive', 'tab:cyan'} which are the Tableau Colors from the ‘T10’ categorical palette (which is the default color cycle).\n",
    "\n",
    "For the basic built-in colors, you can use a single letter\n",
    "\n",
    "- b: blue\n",
    "- g: green\n",
    "- r: red\n",
    "- c: cyan\n",
    "- m: magenta\n",
    "- y: yellow\n",
    "- k: black\n",
    "- w: white\n",
    "\n",
    "### Markers\n",
    "- https://matplotlib.org/api/markers_api.html\n",
    "\n",
    "There are lots of different markers, including:\n",
    "\n",
    "- \".\" point\n",
    "- \",\" pixel\n",
    "- \"o\" circle\n",
    "- \"v\" triangle_down\n",
    "- \"^\" triangle_up\n",
    "- \"<\" triangle_left\n",
    "- \">\" triangle_right\n",
    "- \"s\" square\n",
    "- \"p\" pentagon\n",
    "- \"P\" plus (filled)\n",
    "- \"*\" star\n",
    "- \"h\" hexagon1\n",
    "- \"H\" hexagon2\n",
    "- \"+\" plus\n",
    "- \"x\" x\n",
    "- \"X\" x (filled)\n",
    "- \"D\" diamond\n",
    "- \"d\" thin_diamond"
   ]
  },
  {
   "cell_type": "code",
   "execution_count": null,
   "metadata": {
    "id": "Cs_KXVKrR3gr",
    "outputId": "e3173e82-9469-4784-e891-c85ed707c885"
   },
   "outputs": [],
   "source": [
    "import matplotlib.pyplot as plt\n",
    "plt.plot([1,2,3,4], [1,4,9,16])\n",
    "plt.plot([0,1,5,7], [1,4,9,16], 'D-')\n",
    "plt.plot([0,1,3,5], [3,4.5,7,18], 'ro-')\n",
    "plt.show()"
   ]
  },
  {
   "cell_type": "code",
   "execution_count": null,
   "metadata": {
    "id": "PkanrfaGR3gr",
    "outputId": "65d43ec8-f4e3-4b2e-dd1e-0c3b646a7a5f"
   },
   "outputs": [],
   "source": [
    "# Example of all markers\n",
    "# From: https://stackoverflow.com/a/46637880\n",
    "import matplotlib.pylab as plt\n",
    "markers=['.',',','o','v','^','<','>','1','2','3','4','8','s','p','P','*','h','H','+','x','X','D','d','|','_']\n",
    "descriptions=['point', 'pixel', 'circle', 'triangle_down', 'triangle_up','triangle_left', 'triangle_right', 'tri_down', 'tri_up', 'tri_left','tri_right', 'octagon', 'square', 'pentagon', 'plus (filled)','star', 'hexagon1', 'hexagon2', 'plus', 'x', 'x (filled)','diamond', 'thin_diamond', 'vline', 'hline']\n",
    "x=[]\n",
    "y=[]\n",
    "for i in range(5):\n",
    "    for j in range(5):\n",
    "        x.append(i)\n",
    "        y.append(j)\n",
    "plt.figure(figsize=(12,6))\n",
    "for i,j,m,l in zip(x,y,markers,descriptions):\n",
    "    plt.scatter(i,j,marker=m)\n",
    "    plt.text(i-0.15,j+0.15,s=m+' : '+l)\n",
    "plt.axis([-0.1,4.8,-0.1,4.5])\n",
    "plt.tight_layout()\n",
    "plt.axis('off')\n",
    "plt.show()  "
   ]
  },
  {
   "cell_type": "code",
   "execution_count": null,
   "metadata": {
    "id": "JzQYUYaqR3gs",
    "outputId": "b31181ee-72ec-47a9-e0fe-7ffa45dbb8d4"
   },
   "outputs": [],
   "source": [
    "import numpy as np\n",
    "import matplotlib.pyplot as plt\n",
    "markers = [(i,j,0) for i in range(2,10) for j in range(1, 3)]\n",
    "\n",
    "[plt.plot(i, 0, marker = markers[i], ms=10) for i in range(16)]"
   ]
  },
  {
   "cell_type": "code",
   "execution_count": null,
   "metadata": {
    "id": "qAuzgX0XR3gs"
   },
   "outputs": [],
   "source": []
  }
 ],
 "metadata": {
  "colab": {
   "provenance": []
  },
  "kernelspec": {
   "display_name": "Python 3 (ipykernel)",
   "language": "python",
   "name": "python3"
  },
  "language_info": {
   "codemirror_mode": {
    "name": "ipython",
    "version": 3
   },
   "file_extension": ".py",
   "mimetype": "text/x-python",
   "name": "python",
   "nbconvert_exporter": "python",
   "pygments_lexer": "ipython3",
   "version": "3.10.6"
  },
  "toc": {
   "base_numbering": 1,
   "nav_menu": {},
   "number_sections": true,
   "sideBar": true,
   "skip_h1_title": false,
   "title_cell": "Table of Contents",
   "title_sidebar": "Contents",
   "toc_cell": false,
   "toc_position": {},
   "toc_section_display": true,
   "toc_window_display": true
  }
 },
 "nbformat": 4,
 "nbformat_minor": 1
}
