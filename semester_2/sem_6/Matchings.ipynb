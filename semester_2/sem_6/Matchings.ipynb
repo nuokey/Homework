{
 "cells": [
  {
   "cell_type": "markdown",
   "metadata": {
    "id": "4Le85k3GHiVx"
   },
   "source": [
    "## Двудольный граф\n",
    "\n",
    "***Двудольный граф или биграф*** — граф, множество вершин которого можно разбить на две части таким образом, что каждое ребро графа соединяет какую-то вершину из одной части с какой-то вершиной другой части, то есть не существует ребра, соединяющего две вершины из одной и той же части."
   ]
  },
  {
   "cell_type": "markdown",
   "metadata": {
    "id": "RxhaKtfKFs7e"
   },
   "source": [
    "## **Паросочетания *(определения)***\n",
    "***Паросочетание M в двудольном графе*** — произвольное множество рёбер двудольного графа такое, что никакие два ребра не имеют общей вершины.\n",
    "\n",
    "Число рёбер в наибольшем паросочетании графа G называется ***числом паросочетания***.\n",
    "\n",
    "Вершины двудольного графа, инцидентные рёбрам паросочетания M, называются ***покрытыми***, а неинцидентные — ***свободными***.\n",
    "\n",
    "***Чередующаяся цепь*** — путь в двудольном графе, для любых двух соседних рёбер которого верно, что одно из них принадлежит паросочетанию M\n",
    ", а другое нет.\n",
    "\n",
    "***Дополняющая цепь*** (или увеличивающая цепь) — чередующаяся цепь, у которой оба конца свободны.\n",
    "\n",
    "***Полным паросочетанием*** называется паросочетание, в которое входят все вершины.\n",
    "\n",
    "\n",
    "\n"
   ]
  },
  {
   "cell_type": "markdown",
   "metadata": {
    "id": "194hvW5OIB8d"
   },
   "source": [
    "## **Теорема Бержа**\n",
    "Паросочетание является максимальным тогда и только тогда, когда не существует увеличивающих относительно него цепей."
   ]
  },
  {
   "cell_type": "markdown",
   "metadata": {
    "id": "tFrktYNTcGxh"
   },
   "source": [
    "## **Теорема**\n",
    "Если из вершины x\n",
    " не существует дополняющей цепи относительно паросочетания M\n",
    " и паросочетание M′\n",
    " получается из M\n",
    " изменением вдоль дополняющей цепи, тогда из x\n",
    " не существует дополняющей цепи в M′\n",
    "."
   ]
  },
  {
   "cell_type": "markdown",
   "metadata": {
    "id": "NOemOdFuOmi1"
   },
   "source": [
    "## **Алгорит Куна**\n"
   ]
  },
  {
   "cell_type": "markdown",
   "metadata": {
    "id": "FSk0fIMYPEkq"
   },
   "source": [
    "Задан граф G⟨V,E⟩\n",
    ", про который известно, что он двудольный, но разбиение не задано явно. Требуется найти наибольшее паросочетание в нём\n",
    "\n",
    "Алгоритм можно описать так: сначала возьмём пустое паросочетание, а потом — пока в графе удаётся найти увеличивающую цепь, — будем выполнять чередование паросочетания вдоль этой цепи, и повторять процесс поиска увеличивающей цепи. Как только такую цепь найти не удалось — процесс останавливаем, — текущее паросочетание и есть максимальное.\n",
    "\n",
    "В массиве 𝚖𝚊𝚝𝚌𝚑𝚒𝚗𝚐\n",
    " хранятся паросочетания (v,𝚖𝚊𝚝𝚌𝚑𝚒𝚗𝚐[v])\n",
    " (Если паросочетания с вершиной v\n",
    " не существует, то 𝚖𝚊𝚝𝚌𝚑𝚒𝚗𝚐[v]=−1\n",
    "). А used\n",
    " — обычный массив \"посещённостей\" вершин в обходе в глубину (он нужен, чтобы обход в глубину не заходил в одну вершину дважды). Функция dfs\n",
    " возвращает true\n",
    ", если ей удалось найти увеличивающую цепь из вершины v\n",
    ", при этом считается, что эта функция уже произвела чередование паросочетания вдоль найденной цепи.\n",
    "\n",
    "Внутри функции просматриваются все рёбра, исходящие из вершины v\n",
    ", и затем проверяется: если это ребро ведёт в ненасыщенную вершину to\n",
    ", либо если эта вершина to\n",
    " насыщена, но удаётся найти увеличивающую цепь рекурсивным запуском из 𝚖𝚊𝚝𝚌𝚑𝚒𝚗𝚐[to]\n",
    ", то мы говорим, что мы нашли увеличивающую цепь, и перед возвратом из функции с результатом true\n",
    " производим чередование в текущем ребре: перенаправляем ребро, смежное с to\n",
    ", в вершину v\n",
    ".\n",
    "\n",
    "В основной программе сначала указывается, что текущее паросочетание — пустое (массив 𝚖𝚊𝚝𝚌𝚑𝚒𝚗𝚐\n",
    " заполняется числами −1\n",
    "). Затем перебирается вершина v\n",
    ", и из неё запускается обход в глубину dfs\n",
    ", предварительно обнулив массив used\n",
    ".\n",
    "\n",
    "Стоит заметить, что размер паросочетания легко получить как число вызовов dfs\n",
    " в основной программе, вернувших результат true\n",
    ". Само искомое максимальное паросочетание содержится в массиве 𝚖𝚊𝚝𝚌𝚑𝚒𝚗𝚐\n",
    ". После того, как все вершины v∈V\n",
    " будут просмотрены, текущее паросочетание будет максимальным. Корректность алгоритма следует из теоремы о максимальном паросочетании и дополняющих цепях и теоремы, описанной выше.\n",
    "\n",
    " [Подробнее про алгоритм](https://neerc.ifmo.ru/wiki/index.php?title=%D0%90%D0%BB%D0%B3%D0%BE%D1%80%D0%B8%D1%82%D0%BC_%D0%9A%D1%83%D0%BD%D0%B0_%D0%B4%D0%BB%D1%8F_%D0%BF%D0%BE%D0%B8%D1%81%D0%BA%D0%B0_%D0%BC%D0%B0%D0%BA%D1%81%D0%B8%D0%BC%D0%B0%D0%BB%D1%8C%D0%BD%D0%BE%D0%B3%D0%BE_%D0%BF%D0%B0%D1%80%D0%BE%D1%81%D0%BE%D1%87%D0%B5%D1%82%D0%B0%D0%BD%D0%B8%D1%8F)"
   ]
  },
  {
   "cell_type": "code",
   "execution_count": null,
   "metadata": {
    "colab": {
     "base_uri": "https://localhost:8080/"
    },
    "id": "hCaUeLz2PnwW",
    "outputId": "08bd1ddd-f5a4-4cb0-9a30-71527ffedfa3"
   },
   "outputs": [
    {
     "name": "stdout",
     "output_type": "stream",
     "text": [
      "1 4\n",
      "2 5\n",
      "3 6\n",
      "4 1\n",
      "5 2\n",
      "6 3\n"
     ]
    }
   ],
   "source": [
    "# Обратите внимание: в графе G нулевая вершина не изолировна, ее просто нет\n",
    "G = [[], [4], [4, 5], [5, 6], [1, 2], [2, 3], [3]]\n",
    "n = len(G)\n",
    "\n",
    "\n",
    "def dfs(v):\n",
    "    if used[v]:\n",
    "        return False\n",
    "    used[v] = True\n",
    "    for to in G[v]:\n",
    "        if (matching[to] == -1) or dfs(matching[to]):\n",
    "            matching[to] = v\n",
    "            return True\n",
    "    return False\n",
    "\n",
    "\n",
    "matching = [-1] * n\n",
    "for i in range(1, n):\n",
    "    used = [False] * n\n",
    "    dfs(i)\n",
    "\n",
    "for i in range(1, n):\n",
    "    if matching[i] != -1:\n",
    "        print(i, matching[i], sep=' ')\n",
    "\n",
    "# Восстановление максимального паросочетания в список\n",
    "pares = []\n",
    "used_for_pare = []\n",
    "for i in range(1, n):\n",
    "    if matching[i] != -1 and matching[i] not in used_for_pare:\n",
    "        used_for_pare.append(i)\n",
    "        pares.append([i, matching[i]])\n",
    "\n",
    "print(pares)\n",
    "\n",
    "# Проверка на существование полного паросочетания\n",
    "if len(pares)*2 == (n-1):\n",
    "    print('Perfect matching')"
   ]
  },
  {
   "cell_type": "markdown",
   "metadata": {
    "id": "3dW1Q8u1py8t"
   },
   "source": [
    "## **Теорема Кёнига**\n",
    "Граф G\n",
    " является двудольным тогда и только тогда, когда все циклы в графе G\n",
    " имеют чётную длину."
   ]
  },
  {
   "cell_type": "markdown",
   "metadata": {
    "id": "GVAc90DLqngp"
   },
   "source": [
    "***Доказательство***\n",
    "\n",
    "1) *Необходимоть*\n",
    "\n",
    "Рассмотрим двудольный граф из долей U и W. Если начать обход из U, то вернуться в нее можно только через четное кол-во ребер. Следовательно, любой цикл в G имеет четную длину.\n",
    "\n",
    " 2) *Достаточность*\n",
    "\n",
    "Пусть ненулевой граф G\n",
    " связен и не имеет циклов нечетной длины. Выберем произвольно вершину u\n",
    " и разобьем множество всех вершин на два непересекающихся множества U\n",
    " и V\n",
    " так, чтобы в U\n",
    " лежали вершины v0\n",
    ", такие что кратчайшая цепь (u,v0)\n",
    " была чётной длины, а в V\n",
    " соответственно вершины v1\n",
    ", для которых длина цепи (u,v1)\n",
    " — нечётная. При этом u∈U\n",
    ". В графе G\n",
    " нет ребер ab\n",
    ", таких что a,b\n",
    " лежат одновременно в U\n",
    " и V\n",
    ". Докажем это от противного. Пусть a,b∈U\n",
    ". Зададим P0\n",
    " — кратчайшая (u,a)\n",
    " цепь, а P1\n",
    " — кратчайшая (u,b)\n",
    " цепь. Обе цепи четной длины. Пусть v0\n",
    " — последняя вершина цепи P0\n",
    ", принадлежащая P1\n",
    ". Тогда подцепи от u\n",
    " до v0\n",
    " в P0\n",
    " и P1\n",
    " имеют одинаковую длину (иначе бы, пройдя по более короткой подцепи от u\n",
    " до v0\n",
    " мы смогли бы найти более короткую цепь от u\n",
    " до a\n",
    " или от u\n",
    " до b\n",
    ", чем цепь P0\n",
    " или P1\n",
    " ). Так как подцепи от v0\n",
    " до a\n",
    " и от v0\n",
    " до b\n",
    " в цепях P0\n",
    " и P1\n",
    " имеют одинаковую четность, а значит в сумме с ребром ab\n",
    " они образуют цикл нечётной длины, что невозможно.\n"
   ]
  },
  {
   "cell_type": "code",
   "execution_count": null,
   "metadata": {
    "colab": {
     "base_uri": "https://localhost:8080/"
    },
    "id": "vBcZKbQcw6Kd",
    "outputId": "6c3a3511-5793-4642-81a0-61d5994dc815"
   },
   "outputs": [
    {
     "name": "stdout",
     "output_type": "stream",
     "text": [
      "Binar\n"
     ]
    }
   ],
   "source": [
    "# Проверка графа на двудольность с помощью теоремы Кенига\n",
    "\n",
    "G = [[], [4, 5], [4], [5, 6], [1, 2], [1, 3], [3]]\n",
    "\n",
    "# G = [[], [4, 5], [4], [5, 6], [1, 2], [1, 3, 6], [3, 5]]\n",
    "\n",
    "n = len(G)\n",
    "\n",
    "\n",
    "def dfs(start, visited, g, ok):\n",
    "    if visited[start] == 0:\n",
    "        visited[start] = 1\n",
    "    for u in g[start]:\n",
    "        ok.append(visited[u]==visited[start])\n",
    "        if visited[u] == 0:\n",
    "            if visited[start] == 1:\n",
    "                visited[u] = 2\n",
    "            elif visited[start] == 2:\n",
    "                visited[u] = 1\n",
    "            dfs(u, visited, g, ok)\n",
    "\n",
    "    return ok\n",
    "\n",
    "\n",
    "visited = [0] * n\n",
    "ok = dfs(1, visited, G, [])\n",
    "\n",
    "if max(ok):\n",
    "    print('Nor binar')\n",
    "else:\n",
    "    print('Binar')"
   ]
  },
  {
   "cell_type": "markdown",
   "metadata": {
    "id": "Vwj2q2AagM68"
   },
   "source": [
    "## **Теорема Хола (теорема о свадьбах)**\n",
    "\n",
    "Полное паросочетание существует тогда и только тогда, когда для любого A⊂L выполнено |A|⩽|N(A)| ,\n",
    "\n",
    " где N(X)={y∈V∣(x,y)∈E,x∈X} - множество соседей X\n",
    "\n",
    "(то есть для любого множетсва вершин левой доли A мощность этого множества не больше мощности множетсва соседей A).\n",
    "\n"
   ]
  },
  {
   "cell_type": "markdown",
   "metadata": {
    "id": "fmHqSFhniA4H"
   },
   "source": [
    "***Доказательство***\n",
    "\n",
    "1) *Необходимоть*\n",
    "\n",
    "Если в графе есть полное паросочетание, то у каждой вершины хотя бы один сосед (по паросочетанию). Поэтому утверждение теоремы очевидно.\n",
    "\n",
    " 2) *Достаточность*\n",
    "\n",
    " В обратную сторону докажем по индукции (будем добавлять в изначально пустое паросочетание P\n",
    " по одному ребру и доказывать, что мы можем это сделать, если P\n",
    " не полное). Таким образом, в конце получим что P\n",
    " — полное паросочетание.\n",
    "\n",
    "**База индукции**\n",
    "\n",
    "Вершина из L\n",
    " соединена хотя бы с одной вершиной из R\n",
    ". Следовательно база верна.\n",
    "\n",
    "**Индукционный переход**\n",
    "\n",
    "Пусть после k<n\n",
    " шагов построено паросочетание P\n",
    ". Докажем, что в P\n",
    " можно добавить вершину x\n",
    " из L\n",
    ", не насыщенную паросочетанием P\n",
    ". Рассмотрим множество вершин H\n",
    " — все вершины, достижимые из x\n",
    ", если можно ходить из R\n",
    " в L\n",
    " только по ребрам из P\n",
    ", а из L\n",
    " в R\n",
    " по любым ребрам из G\n",
    ". Тогда в H\n",
    " найдется вершина y\n",
    " из R\n",
    ", не насыщенная паросочетанием P\n",
    ", иначе, если рассмотреть вершины HL\n",
    " (вершины из H\n",
    " принадлежащие L\n",
    "), то для них не будет выполнено условие: |HL|⩽|N(HL)|\n",
    ". Тогда существует путь из x\n",
    " в y\n",
    ", который будет удлиняющим для паросочетания P\n",
    " (т.к из R\n",
    " в L\n",
    " мы проходили по ребрам паросочетания P\n",
    "). Увеличив паросочетание P\n",
    " вдоль этого пути, получаем искомое паросочетание. Следовательно предположение индукции верно.\n",
    "\n"
   ]
  },
  {
   "cell_type": "markdown",
   "metadata": {
    "id": "hecxSqUymAei"
   },
   "source": [
    "![Aba (1).png](data:image/png;base64,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)"
   ]
  },
  {
   "cell_type": "code",
   "execution_count": null,
   "metadata": {
    "id": "_0T15pQNxSTl"
   },
   "outputs": [],
   "source": [
    "from itertools import combinations\n",
    "G = [[], [4], [4, 5], [5, 6], [1, 2], [2, 3], [3]]\n",
    "# G = [[], [4], [4, 5], [5], [1, 2], [2, 3], []]\n",
    "\n",
    "n = len(G)\n",
    "\n",
    "\n",
    "def dfs(start, visited, left, g):\n",
    "    if visited[start] == 0:\n",
    "        visited[start] = 1\n",
    "        left.append(start)\n",
    "    for u in g[start]:\n",
    "        if visited[u] == 0:\n",
    "            if visited[start] == 1:\n",
    "                visited[u] = 2\n",
    "            elif visited[start] == 2:\n",
    "                visited[u] = 1\n",
    "                left.append(u)\n",
    "            dfs(u, visited, left, g)\n",
    "\n",
    "    return left\n",
    "\n",
    "\n",
    "left = dfs(1, [0]*n, [], G)\n",
    "combs = []\n",
    "s = ''.join([str(j) for j in left])\n",
    "for i in range(1, len(left)+1):\n",
    "    for j in combinations(s, i):\n",
    "                combs.append([int(k) for k in list(j)])\n",
    "\n",
    "print(combs)\n",
    "ok = 1\n",
    "for comb in combs:\n",
    "    used = set([0])\n",
    "    for v in comb:\n",
    "        used = used.union(set(G[v]))\n",
    "    if len(used)-1 < len(comb):\n",
    "        ok = 0\n",
    "        break\n",
    "\n",
    "if ok:\n",
    "    print('Perfect matching')\n",
    "else:\n",
    "    print('No perfect matching')"
   ]
  },
  {
   "cell_type": "code",
   "execution_count": null,
   "metadata": {},
   "outputs": [],
   "source": []
  },
  {
   "cell_type": "markdown",
   "metadata": {},
   "source": [
    "# Задачи"
   ]
  },
  {
   "cell_type": "markdown",
   "metadata": {},
   "source": [
    "1. На банкет были приглашены N Очень Важных Персон (ОВП). Были поставлены 2 стола. Столы достаточно большие, чтобы все посетители банкета могли сесть за любой из них. Проблема заключается в том, что некоторые ОВП не ладят друг с другом и не могут сидеть за одним столом. Вас попросили определить, возможно ли всех ОВП рассадить за двумя столами.\n",
    "\n",
    "    Входные данные\n",
    "    \n",
    "    В первой строке входного файла INPUT.TXT дано два целых числа: N и M (0 ≤ N,M ≤ 100), где N - количество ОВП, а M - количество пар ОВП, которые не могут сидеть за одним столом. В следующих M строках записано по 2 числа - пары ОВП, которые не могут сидеть за одним столом.\n",
    "\n",
    "    Выходные данные\n",
    "    \n",
    "    Если способ рассадить ОВП существует, то в выходной файл OUTPUT.TXT выведите YES и NO в противном случае.\n",
    "\n",
    "    Пример\n",
    "    \n",
    "    INPUT.TXT \\\n",
    "    3 2 \\\n",
    "    1 2 \\\n",
    "    1 3\n",
    "    \n",
    "    OUTPUT.TXT \\\n",
    "    YES"
   ]
  },
  {
   "cell_type": "code",
   "execution_count": null,
   "metadata": {},
   "outputs": [],
   "source": []
  },
  {
   "cell_type": "markdown",
   "metadata": {},
   "source": [
    "2. Одной из классических задач комбинаторной оптимизации является так называемая «задача о назначениях». Формулируется она следующим образом.\n",
    "\n",
    "    Есть N работников, пронумерованных числами от 1 до N, и N работ, также пронумерованных числами от 1 до N. Если i-ый работник выполняет j-ую работу, то ему выплачивается зарплата в размере Cij денежных единиц. Необходимо найти такое назначение работников на работы (каждый работник выполняет ровно одну работу, каждая работа выполняется ровно одним работником), что суммарная зарплата работников минимальна (соответствующая сумма называется стоимостью назначения).\n",
    "\n",
    "    Напишите программу, решающую задачу о назначениях.\n",
    "\n",
    "    Входные данные\n",
    "    \n",
    "    Входной файл INPUT.TXT содержит натуральное число N (N ≤ 100). Последующие N строк содержат по N чисел каждая. При этом j-ое число (i + 1)-ой строки равно Cij (1 ≤ Cij ≤ 20 000).\n",
    "\n",
    "    Выходные данные\n",
    "    \n",
    "    В выходной файл OUTPUT.TXT выведите минимальную возможную стоимость назначения.\n",
    "\n",
    "\n",
    "    Примеры\n",
    "    \n",
    "    INPUT.TXT \\\n",
    "    2 \\\n",
    "    1 2 \\\n",
    "    2 1 \\\n",
    "    \n",
    "    OUTPUT.TXT \\\n",
    "    2\n",
    "    \n",
    "    \\--------------------\n",
    "    \n",
    "    INPUT.TXT \\\n",
    "    2 \\\n",
    "    1 2 \\\n",
    "    3 4 \\\n",
    "    \n",
    "    OUTPUT.TXT \\\n",
    "    5\n",
    "    "
   ]
  },
  {
   "cell_type": "code",
   "execution_count": null,
   "metadata": {},
   "outputs": [],
   "source": []
  },
  {
   "cell_type": "markdown",
   "metadata": {},
   "source": [
    "3. Сколько полных паросочетаний содержится в полном графе из 6 вершин?"
   ]
  },
  {
   "cell_type": "code",
   "execution_count": null,
   "metadata": {},
   "outputs": [],
   "source": []
  },
  {
   "cell_type": "markdown",
   "metadata": {},
   "source": [
    "4. Родители подарили Пете набор детских кубиков. Поскольку Петя скоро пойдет в школу, они купили ему кубики с буквами. На каждой из шести граней каждого кубика написана буква.\n",
    "\n",
    "    Теперь Петя хочет похвастаться перед старшей сестрой, что научился читать. Для этого он хочет сложить из кубиков ее имя. Но это оказалось довольно сложно сделать – ведь разные буквы могут находиться на одном и том же кубике и тогда Петя не сможет использовать обе буквы в слове. Правда одна и та же буква может встречаться на разных кубиках. Помогите Пете!\n",
    "\n",
    "    Дан набор кубиков и имя сестры. Выясните, можно ли выложить ее имя с помощью этих кубиков и если да, то в каком порядке следует выложить кубики.\n",
    "\n",
    "    Входные данные\n",
    "\n",
    "    В первой строке входного файла INPUT.TXT записано целое число N (1 ≤ N ≤ 100) – количество кубиков в наборе у Пети. Во второй строке задано имя Петиной сестры – слово, состоящие только из больших английских букв, длиной от 1 до 100 символов. Следующие N строк содержат по 6 букв (только большие английские буквы), которые написаны на соответствующем кубике.\n",
    "\n",
    "    Выходные данные\n",
    "\n",
    "    В первой строке выходного файла OUTPUT.TXT выведите «YES», если выложить имя Петиной сестры данными кубиками можно, и «NO» в противном случае.\n",
    "\n",
    "    В случае положительного ответа, во второй строке выведите M различных чисел из диапазона от 1 до N, где M – количество букв в имени Петиной сестры. i-е число должно быть номером кубика, который следует положить на i-е место при составлении имени Петиной сестры. Кубики нумеруются с 1, в том порядке, в котором они заданы во входных данных. Если решений несколько, выведите любое.\n",
    "\n",
    "    Примеры\n",
    "\n",
    "    INPUT.TXT \\\n",
    "    4 \\\n",
    "    ANN \\\n",
    "    ANNNNN \\\n",
    "    BCDEFG \\\n",
    "    HIJKLM \\\n",
    "    \n",
    "    OUTPUT.TXT \\\n",
    "    NO\n",
    "    \n",
    "    \\--------------------\n",
    "    \n",
    "    INPUT.TXT \\\n",
    "    5 \\\n",
    "    HELEN \\\n",
    "    ABCDEF \\\n",
    "    GHIJKL \\\n",
    "    MNOPQL \\\n",
    "    STUVWN \\\n",
    "    EIUOZK \\\n",
    "    \n",
    "    OUTPUT.TXT \\\n",
    "    YES \\\n",
    "    2 1 3 5 4\n",
    "    "
   ]
  },
  {
   "cell_type": "code",
   "execution_count": null,
   "metadata": {},
   "outputs": [],
   "source": []
  }
 ],
 "metadata": {
  "colab": {
   "provenance": []
  },
  "kernelspec": {
   "display_name": "Python 3 (ipykernel)",
   "language": "python",
   "name": "python3"
  },
  "language_info": {
   "codemirror_mode": {
    "name": "ipython",
    "version": 3
   },
   "file_extension": ".py",
   "mimetype": "text/x-python",
   "name": "python",
   "nbconvert_exporter": "python",
   "pygments_lexer": "ipython3",
   "version": "3.12.3"
  }
 },
 "nbformat": 4,
 "nbformat_minor": 1
}
