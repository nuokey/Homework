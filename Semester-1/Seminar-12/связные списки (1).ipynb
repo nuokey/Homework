{
 "cells": [
  {
   "cell_type": "markdown",
   "id": "be8a89ee-c41a-45e4-b757-5da3c9a110d4",
   "metadata": {},
   "source": [
    "# Связные списки"
   ]
  },
  {
   "cell_type": "markdown",
   "id": "f874e622",
   "metadata": {},
   "source": [
    "Двусвязный список в Python – это связанная структура данных с набором последовательно связанных узлов. Каждый узел имеет три поля:\n",
    " - Data: хранит данные.\n",
    "\n",
    " - Prev: хранит адрес предыдущего узла.\n",
    "\n",
    " - Next: хранит адрес следующего узла."
   ]
  },
  {
   "attachments": {
    "image.png": {
     "image/png": "[encoded data removed]"
    }
   },
   "cell_type": "markdown",
   "id": "bcdacd5b",
   "metadata": {},
   "source": [
    "![image.png](attachment:image.png)"
   ]
  },
  {
   "cell_type": "markdown",
   "id": "c4fd726b",
   "metadata": {},
   "source": [
    "Двусвязные списки очень полезны там, где требуется двусторонняя навигация. Это позволяет обходить список в любом направлении. Двусвязный список требует изменения большего количества ссылок, чем односвязный список, при добавлении или удалении узлов. Но эти операции потенциально проще и эффективнее, так как не требуют отслеживания предыдущего узла, в отличие от односвязного списка."
   ]
  },
  {
   "cell_type": "code",
   "execution_count": 1,
   "id": "8987fddc",
   "metadata": {},
   "outputs": [],
   "source": [
    "class Node: \n",
    "    def __init__(self, data): \n",
    "        self.item = data \n",
    "        self.nref = None \n",
    "        self.pref = None\n",
    "#{'item': data, nref: None, pref: None}\n",
    "\n",
    "\n",
    "class DoublyLinkedList: \n",
    "    def __init__(self): \n",
    "        self.start_node = None\n",
    "\n",
    "    def insert_in_emptylist(self, data): \n",
    "        if self.start_node is None: \n",
    "            new_node = Node(data) \n",
    "            self.start_node = new_node \n",
    "        else: \n",
    "            print(\"list is not empty\")\n",
    "            \n",
    "    def insert_at_start(self, data): \n",
    "        if self.start_node is None: \n",
    "            new_node = Node(data) \n",
    "            self.start_node = new_node \n",
    "            print(\"node inserted\") \n",
    "            return \n",
    "        new_node = Node(data) \n",
    "        new_node.nref = self.start_node \n",
    "        self.start_node.pref = new_node \n",
    "        self.start_node = new_node\n",
    "        \n",
    "    def insert_at_end(self, data): \n",
    "        if self.start_node is None: \n",
    "            new_node = Node(data) \n",
    "            self.start_node = new_node \n",
    "            return\n",
    "        n = self.start_node \n",
    "        while n.nref is not None: \n",
    "            n = n.nref \n",
    "        new_node = Node(data) \n",
    "        n.nref = new_node \n",
    "        new_node.pref = n\n",
    "            \n",
    "    def insert_after_item(self, x, data): \n",
    "        if self.start_node is None: \n",
    "            print(\"List is empty\") \n",
    "            return \n",
    "        else: \n",
    "            n = self.start_node \n",
    "            while n is not None: \n",
    "                if n.item == x: \n",
    "                    break \n",
    "                n = n.nref \n",
    "            if n is None: \n",
    "                print(\"item not in the list\") \n",
    "            else: \n",
    "                new_node = Node(data) \n",
    "                new_node.pref = n \n",
    "                new_node.nref = n.nref \n",
    "                if n.nref is not None: \n",
    "                    n.nref.prev = new_node \n",
    "                n.nref = new_node\n",
    "                \n",
    "    def insert_before_item(self, x, data): \n",
    "        if self.start_node is None: \n",
    "            print(\"List is empty\") \n",
    "            return \n",
    "        else: \n",
    "            n = self.start_node \n",
    "            while n is not None: \n",
    "                if n.item == x: \n",
    "                    break \n",
    "                n = n.nref \n",
    "            if n is None: \n",
    "                print(\"item not in the list\") \n",
    "            else: \n",
    "                new_node = Node(data) \n",
    "                new_node.nref = n \n",
    "                new_node.pref = n.pref \n",
    "                if n.pref is not None: \n",
    "                    n.pref.nref = new_node \n",
    "                n.pref = new_node\n",
    "                \n",
    "    def traverse_list(self): \n",
    "        if self.start_node is None: \n",
    "            print(\"List has no element\") \n",
    "            return \n",
    "        else: \n",
    "            n = self.start_node \n",
    "            while n is not None: \n",
    "                print(n.item , \" \") \n",
    "                n = n.nref\n",
    "                \n",
    "    def delete_at_start(self): \n",
    "        if self.start_node is None: \n",
    "            print(\"The list has no element to delete\") \n",
    "            return \n",
    "        if self.start_node.nref is None: \n",
    "            self.start_node = None \n",
    "            return \n",
    "        self.start_node = self.start_node.nref \n",
    "        self.start_node.pref = None\n",
    "        \n",
    "    def delete_at_end(self): \n",
    "        if self.start_node is None: \n",
    "            print(\"The list has no element to delete\") \n",
    "            return \n",
    "        if self.start_node.nref is None: \n",
    "            self.start_node = None \n",
    "            return \n",
    "        n = self.start_node \n",
    "        while n.nref is not None: \n",
    "            n = n.nref \n",
    "        n.pref.nref = None\n",
    "        \n",
    "    def delete_element_by_value(self, x): \n",
    "        #check empty list\n",
    "        if self.start_node is None: \n",
    "            print(\"The list has no element to delete\") \n",
    "            return \n",
    "        #check if list is a single element\n",
    "        if self.start_node.nref is None: \n",
    "            if self.start_node.item == x: \n",
    "                self.start_node = None \n",
    "            else: \n",
    "                print(\"Item not found\")\n",
    "                return \n",
    "        # list has > 1 element, and desirable elem is the first in the list\n",
    "        # folllowing the delete_at_start() method\n",
    "        if self.start_node.item == x: \n",
    "            self.start_node = self.start_node.nref \n",
    "            self.start_node.pref = None \n",
    "            return \n",
    "        # list is nonsingle-element and desirable elem is not the first\n",
    "        n = self.start_node \n",
    "        while n.nref is not None: \n",
    "            if n.item == x: \n",
    "                break \n",
    "            n = n.nref \n",
    "        if n.nref is not None: \n",
    "            n.pref.nref = n.nref \n",
    "            n.nref.pref = n.pref \n",
    "        else: \n",
    "            if n.item == x: \n",
    "                n.pref.nref = None \n",
    "            else: \n",
    "                print(\"Element not found\")\n",
    "                \n",
    "    def reverse_linked_list(self): \n",
    "        if self.start_node is None: \n",
    "            print(\"The list has no element to delete\") \n",
    "            return \n",
    "        p = self.start_node \n",
    "        q = p.nref \n",
    "        p.nref = None \n",
    "        p.pref = q \n",
    "        while q is not None: \n",
    "            q.pref = q.nref \n",
    "            q.nref = p \n",
    "            p = q \n",
    "            q = q.pref \n",
    "        self.start_node = p"
   ]
  },
  {
   "cell_type": "code",
   "execution_count": 18,
   "id": "c4a481a4",
   "metadata": {},
   "outputs": [
    {
     "name": "stdout",
     "output_type": "stream",
     "text": [
      "50  \n"
     ]
    }
   ],
   "source": [
    "new_linked_list = DoublyLinkedList()\n",
    "new_linked_list.insert_in_emptylist(50)\n",
    "new_linked_list.traverse_list()"
   ]
  },
  {
   "cell_type": "code",
   "execution_count": 19,
   "id": "b8cdc27a",
   "metadata": {},
   "outputs": [],
   "source": [
    "new_linked_list.insert_at_start(10) \n",
    "new_linked_list.insert_at_start(5) \n",
    "new_linked_list.insert_at_start(18)"
   ]
  },
  {
   "cell_type": "code",
   "execution_count": 20,
   "id": "1cf8309b",
   "metadata": {},
   "outputs": [
    {
     "name": "stdout",
     "output_type": "stream",
     "text": [
      "18  \n",
      "5  \n",
      "10  \n",
      "50  \n"
     ]
    }
   ],
   "source": [
    "new_linked_list.traverse_list()"
   ]
  },
  {
   "cell_type": "code",
   "execution_count": 21,
   "id": "a2167c87",
   "metadata": {},
   "outputs": [
    {
     "name": "stdout",
     "output_type": "stream",
     "text": [
      "18  \n",
      "5  \n",
      "10  \n",
      "50  \n",
      "29  \n",
      "39  \n",
      "49  \n"
     ]
    }
   ],
   "source": [
    "new_linked_list.insert_at_end(29) \n",
    "new_linked_list.insert_at_end(39) \n",
    "new_linked_list.insert_at_end(49)\n",
    "new_linked_list.traverse_list()"
   ]
  },
  {
   "cell_type": "code",
   "execution_count": 22,
   "id": "7a3bf4db",
   "metadata": {},
   "outputs": [
    {
     "name": "stdout",
     "output_type": "stream",
     "text": [
      "18  \n",
      "5  \n",
      "10  \n",
      "50  \n",
      "65  \n",
      "29  \n",
      "39  \n",
      "49  \n"
     ]
    }
   ],
   "source": [
    "new_linked_list.insert_after_item(50, 65)\n",
    "new_linked_list.traverse_list()"
   ]
  },
  {
   "cell_type": "code",
   "execution_count": 23,
   "id": "f0b1b451",
   "metadata": {},
   "outputs": [
    {
     "name": "stdout",
     "output_type": "stream",
     "text": [
      "18  \n",
      "5  \n",
      "10  \n",
      "50  \n",
      "50  \n",
      "65  \n",
      "29  \n",
      "39  \n",
      "49  \n"
     ]
    }
   ],
   "source": [
    "new_linked_list.insert_after_item(50, 50)\n",
    "new_linked_list.traverse_list()"
   ]
  },
  {
   "cell_type": "code",
   "execution_count": 24,
   "id": "969d3593",
   "metadata": {},
   "outputs": [
    {
     "name": "stdout",
     "output_type": "stream",
     "text": [
      "18  \n",
      "5  \n",
      "10  \n",
      "50  \n",
      "29  \n",
      "50  \n",
      "65  \n",
      "29  \n",
      "39  \n",
      "49  \n"
     ]
    }
   ],
   "source": [
    "new_linked_list.insert_after_item(50, 29)\n",
    "new_linked_list.traverse_list()"
   ]
  },
  {
   "cell_type": "code",
   "execution_count": 25,
   "id": "ee08a237",
   "metadata": {},
   "outputs": [
    {
     "name": "stdout",
     "output_type": "stream",
     "text": [
      "18  \n",
      "5  \n",
      "10  \n",
      "50  \n",
      "100  \n",
      "29  \n",
      "50  \n",
      "65  \n",
      "29  \n",
      "39  \n",
      "49  \n"
     ]
    }
   ],
   "source": [
    "new_linked_list.insert_before_item(29, 100)\n",
    "new_linked_list.traverse_list()"
   ]
  },
  {
   "cell_type": "code",
   "execution_count": 26,
   "id": "8eb3f01c",
   "metadata": {},
   "outputs": [
    {
     "name": "stdout",
     "output_type": "stream",
     "text": [
      "5  \n",
      "10  \n",
      "50  \n",
      "100  \n",
      "29  \n",
      "50  \n",
      "65  \n",
      "29  \n",
      "39  \n",
      "49  \n"
     ]
    }
   ],
   "source": [
    "new_linked_list.delete_at_start()\n",
    "new_linked_list.traverse_list()"
   ]
  },
  {
   "cell_type": "code",
   "execution_count": 27,
   "id": "15d48528",
   "metadata": {},
   "outputs": [
    {
     "name": "stdout",
     "output_type": "stream",
     "text": [
      "5  \n",
      "10  \n",
      "50  \n",
      "100  \n",
      "29  \n",
      "50  \n",
      "65  \n",
      "29  \n",
      "39  \n"
     ]
    }
   ],
   "source": [
    "new_linked_list.delete_at_end()\n",
    "new_linked_list.traverse_list()"
   ]
  },
  {
   "cell_type": "code",
   "execution_count": 28,
   "id": "733089a6",
   "metadata": {},
   "outputs": [
    {
     "name": "stdout",
     "output_type": "stream",
     "text": [
      "5  \n",
      "10  \n",
      "50  \n",
      "29  \n",
      "39  \n"
     ]
    }
   ],
   "source": [
    "new_linked_list.delete_element_by_value(65)\n",
    "new_linked_list.traverse_list()"
   ]
  },
  {
   "cell_type": "code",
   "execution_count": 29,
   "id": "b4b99920",
   "metadata": {},
   "outputs": [
    {
     "name": "stdout",
     "output_type": "stream",
     "text": [
      "39  \n",
      "29  \n",
      "50  \n",
      "10  \n",
      "5  \n"
     ]
    }
   ],
   "source": [
    "new_linked_list.reverse_linked_list()\n",
    "new_linked_list.traverse_list()"
   ]
  },
  {
   "cell_type": "code",
   "execution_count": null,
   "id": "1ca161b6",
   "metadata": {},
   "outputs": [],
   "source": []
  },
  {
   "cell_type": "markdown",
   "id": "c3915cd5-675d-4e98-bd57-34848e9b22d7",
   "metadata": {},
   "source": [
    "## Задачи"
   ]
  },
  {
   "cell_type": "markdown",
   "id": "3c531901-dabc-4f4e-86bc-8362d9649804",
   "metadata": {},
   "source": [
    "1. Напишите программу для поиска определенного элемента (вводится с клавиатуры) в односвязном списке и возврата true, если элемент найден, в противном случае, возвращайте false.\n",
    "\n",
    "2. Напишите функцию для вывода двусвязного списка в обратном порядке.\n",
    "\n",
    "3. Есть односвязный список, в нем есть функции добавить элемент в произвольное место, удалить элемент по значению, распечатать список (для проверки правильности добавления и удаления), значения элементов списка ai целые числа, где i – итый элемент текущего списка. Для текущего состояния списка вычислить последовательность элементов ai – an, где n – последний элемент односвязного списка.\n",
    "\n",
    "4. Напишите функцию для удаления заданного (вводится с клавиатуры) элемента двусвязного списка.\n",
    "\n",
    "5. Для двухсвязного аналогично можно вычислить последовательность a_1 - a_n, a_2 - a_{n-1}, и так до середины списка.\n",
    "\n",
    "6. Стек представляет собой список элементов, организованных по принципу LIFO (англ. last in — first out, «последним пришёл — первым вышел»). Пользователь может может добавить элементы в стек и получить доступ или удалить только недавно добавленные элементы в вершину стека. \n",
    "\n",
    "Для стека определены следуюшие операции:\n",
    "* push() : добавляет элемент в стек и перемещает указатель на этот элемент стека.\n",
    "* pop() : возвращает \"верхний\" (top) элемент и перемещает указатель на 2-й элемент стека.\n",
    "* top() : возвращает \"верхний\" (top) элемент.\n",
    "* size() : возвращает размер стека.\n",
    "* isEmpty() : возвращает True если стек пуст, в противном случае возвращает False.\n",
    "* printstack() : выводит на экран все элементы стека.\n",
    "\n",
    "Реализуйте эти операции используя двусвязный список."
   ]
  },
  {
   "cell_type": "code",
   "execution_count": null,
   "id": "720c6023-d094-4917-8128-611532e3935d",
   "metadata": {},
   "outputs": [],
   "source": []
  },
  {
   "cell_type": "code",
   "execution_count": null,
   "id": "123e9165-11c2-4b91-93f2-c5c4272a81c0",
   "metadata": {},
   "outputs": [],
   "source": []
  }
 ],
 "metadata": {
  "kernelspec": {
   "display_name": "Python 3 (ipykernel)",
   "language": "python",
   "name": "python3"
  },
  "language_info": {
   "codemirror_mode": {
    "name": "ipython",
    "version": 3
   },
   "file_extension": ".py",
   "mimetype": "text/x-python",
   "name": "python",
   "nbconvert_exporter": "python",
   "pygments_lexer": "ipython3",
   "version": "3.12.3"
  }
 },
 "nbformat": 4,
 "nbformat_minor": 5
}
