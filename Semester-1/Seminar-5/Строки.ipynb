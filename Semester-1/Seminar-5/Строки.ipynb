{
 "cells": [
  {
   "cell_type": "code",
   "execution_count": 1,
   "id": "62867e25",
   "metadata": {},
   "outputs": [
    {
     "data": {
      "text/plain": [
       "array([9, 8, 7, 6, 5, 4, 3, 2, 1, 0])"
      ]
     },
     "execution_count": 1,
     "metadata": {},
     "output_type": "execute_result"
    }
   ],
   "source": [
    "import numpy as np\n",
    "arr = np.array([i for i in range(10)])\n",
    "np.flip(arr)"
   ]
  },
  {
   "cell_type": "markdown",
   "id": "550153d9-55ac-4b0b-abc2-da70000166bf",
   "metadata": {},
   "source": [
    "# Лабораторное занятие 8. Строки"
   ]
  },
  {
   "cell_type": "markdown",
   "id": "9535603f-35fe-4362-be21-4fab5335de2e",
   "metadata": {},
   "source": [
    "По методам строк можно посмотреть: https://pythonworld.ru/tipy-dannyx-v-python/stroki-funkcii-i-metody-strok.html"
   ]
  },
  {
   "cell_type": "markdown",
   "id": "3db6f92e-781a-487d-983a-afd80990894b",
   "metadata": {},
   "source": [
    "**Пример 1** (Поиск подстроки в строке)\n",
    "\n",
    "Самый простой, но далеко не самый эффективный (Примитивный алгоритм) алгоритм поиска подстроки в строке основан на переборе всех подстрок, длина которых равна длине шаблона поиска, и посимвольном сравнении таких подстрок с шаблоном поиска. По традиции шаблон поиска или образец принято обозначать как needle (англ. «иголка»), а строку, в которой ведётся поиск — как haystack (англ. «стог сена»)."
   ]
  },
  {
   "cell_type": "code",
   "execution_count": 1,
   "id": "77e7d4c2-a515-4d5e-be87-04cac8d4635b",
   "metadata": {
    "scrolled": true
   },
   "outputs": [
    {
     "name": "stdout",
     "output_type": "stream",
     "text": [
      "1\n"
     ]
    }
   ],
   "source": [
    "needle = '31'\n",
    "haystack = 'о3190qwerweop'\n",
    "\n",
    "index = -1\n",
    "for i in range(len(haystack)-len(needle)+1):\n",
    "    success = True\n",
    "    for j in range(len(needle)):\n",
    "        if needle[j] != haystack[i+j]:\n",
    "            success = False\n",
    "            break\n",
    "    if success:\n",
    "        index = i\n",
    "        break\n",
    "print(index)"
   ]
  },
  {
   "cell_type": "code",
   "execution_count": 8,
   "id": "e03cc830",
   "metadata": {},
   "outputs": [],
   "source": [
    "needle = '31'\n",
    "haystack = 'о319qwe31rweop'"
   ]
  },
  {
   "cell_type": "code",
   "execution_count": 7,
   "id": "96d2808f",
   "metadata": {},
   "outputs": [
    {
     "data": {
      "text/plain": [
       "-1"
      ]
     },
     "execution_count": 7,
     "metadata": {},
     "output_type": "execute_result"
    }
   ],
   "source": [
    "# first occurence\n",
    "haystack.find(needle)"
   ]
  },
  {
   "cell_type": "code",
   "execution_count": 9,
   "id": "51e6a4f2",
   "metadata": {},
   "outputs": [
    {
     "data": {
      "text/plain": [
       "7"
      ]
     },
     "execution_count": 9,
     "metadata": {},
     "output_type": "execute_result"
    }
   ],
   "source": [
    "# last occurence\n",
    "haystack.rfind(needle)"
   ]
  },
  {
   "cell_type": "markdown",
   "id": "a4ff2285-0314-49ed-adca-2c523b4ceefd",
   "metadata": {},
   "source": [
    "### Алгоритм Кнута–Морриса-Пратта"
   ]
  },
  {
   "cell_type": "markdown",
   "id": "6f52d11c-bd7d-4879-b63f-e652c46af5c7",
   "metadata": {},
   "source": [
    "Префикс-функция строки $\\pi(S,i)$ – это длина наибольшего префикса строки S[1..i], который не совпадает с этой строкой и одновременно является ее суффиксом. Проще говоря, это длина наиболее длинного начала строки, являющегося также и ее концом. "
   ]
  },
  {
   "cell_type": "markdown",
   "id": "eda144e9-9833-470e-94d2-f6b3e087a02e",
   "metadata": {},
   "source": [
    "Алгоритм вычисления префикс-функции на языке Python:"
   ]
  },
  {
   "cell_type": "code",
   "execution_count": 2,
   "id": "5c2c92ac-5b23-4085-ba84-d0d63390aaae",
   "metadata": {},
   "outputs": [],
   "source": [
    "def prefix(s):\n",
    "    v = [0]*len(s)\n",
    "    for i in range(1,len(s)):\n",
    "        k = v[i-1]\n",
    "        while k > 0 and s[k] != s[i]:\n",
    "            k = v[k-1]\n",
    "        if s[k] == s[i]:\n",
    "            k = k + 1\n",
    "        v[i] = k\n",
    "    return v"
   ]
  },
  {
   "cell_type": "code",
   "execution_count": 3,
   "id": "20eb9b25-bf17-47ec-b11c-cdb329187676",
   "metadata": {},
   "outputs": [],
   "source": [
    "def kmp(s,t):\n",
    "    index = -1\n",
    "    f = prefix(s)\n",
    "    k = 0\n",
    "    for i in range(len(t)):\n",
    "        while k > 0 and s[k] != t[i]:\n",
    "            k = f[k-1]\n",
    "        if s[k] == t[i]:\n",
    "            k = k + 1\n",
    "        if k == len(s):\n",
    "            index = i - len(s) + 1\n",
    "            break\n",
    "    return index"
   ]
  },
  {
   "cell_type": "code",
   "execution_count": 4,
   "id": "2e740f10-827d-4326-aabc-ce83547a546c",
   "metadata": {},
   "outputs": [
    {
     "data": {
      "text/plain": [
       "-1"
      ]
     },
     "execution_count": 4,
     "metadata": {},
     "output_type": "execute_result"
    }
   ],
   "source": [
    "t = '31'\n",
    "s = 'о3190qwerweop'\n",
    "kmp(s,t)"
   ]
  },
  {
   "cell_type": "markdown",
   "id": "581ce05a-c9f2-4e2a-8fab-7e55db127b46",
   "metadata": {},
   "source": [
    "**Пример 2**\n",
    "\n",
    "Требуется определить индексы первого и последнего вхождения буквы в строке. \n",
    "Для этого нужно написать функцию first_last(letter, st), включающую 2 параметра: letter – искомый символ, st – целевая строка. \n",
    "В случае отсутствия буквы в строке, нужно вернуть кортеж (None, None), если же она есть, то кортеж будет состоять из первого и последнего индекса этого символа."
   ]
  },
  {
   "cell_type": "code",
   "execution_count": 5,
   "id": "5e1f59fb-2186-4bcb-9283-0dca58b71a61",
   "metadata": {},
   "outputs": [
    {
     "name": "stdout",
     "output_type": "stream",
     "text": [
      "(0, 3)\n",
      "(0, 6)\n",
      "(0, 0)\n",
      "(None, None)\n"
     ]
    }
   ],
   "source": [
    "def first_last(letter, st):\n",
    "    first = st.find(letter)\n",
    "    if first < 0:\n",
    "        return None, None\n",
    "    last = st.rfind(letter)\n",
    "    return first, last\n",
    "\n",
    "# Тесты\n",
    "print(first_last('a', 'abba'))\n",
    "print(first_last('a', 'abbaaaab'))\n",
    "print(first_last('a', 'a'))\n",
    "print(first_last('a', 'spring'))"
   ]
  },
  {
   "cell_type": "code",
   "execution_count": 15,
   "id": "3522be34",
   "metadata": {},
   "outputs": [
    {
     "data": {
      "text/plain": [
       "'10.13'"
      ]
     },
     "execution_count": 15,
     "metadata": {},
     "output_type": "execute_result"
    }
   ],
   "source": [
    "a = 10.129\n",
    "f'{a:.2f}'"
   ]
  },
  {
   "cell_type": "code",
   "execution_count": 17,
   "id": "e3c66c6f",
   "metadata": {
    "scrolled": true
   },
   "outputs": [
    {
     "data": {
      "text/plain": [
       "array([[1, 2, 3],\n",
       "       [4, 5, 6],\n",
       "       [6, 7, 8]])"
      ]
     },
     "execution_count": 17,
     "metadata": {},
     "output_type": "execute_result"
    }
   ],
   "source": [
    "np.array([\n",
    "    [1, 2, 3],\n",
    "    [4, 5, 6], \\\n",
    "    [6, 7, 8]\n",
    "])"
   ]
  },
  {
   "cell_type": "markdown",
   "id": "fe9a3323-eff9-4bc2-90c2-6a286adfe036",
   "metadata": {},
   "source": [
    "## Задачи контеста"
   ]
  },
  {
   "cell_type": "markdown",
   "id": "21280ef5-e008-4a76-868b-13aca30dc43f",
   "metadata": {},
   "source": [
    "Для начинающей группы задачи 1-4, для основной 1-5, для продолжающей 1-6."
   ]
  },
  {
   "cell_type": "markdown",
   "id": "ea064799-a75e-4661-8158-08128fc1d302",
   "metadata": {},
   "source": [
    "1. С клавиатуры вводится строка, содержащая номера студентов (начинаются с 'student_' и далее трёхзначный номер) и их баллы за контрольную. Выведите номер студента, который получил максимальный балл.\n",
    "\n",
    "Входные данные: Строка с номерами студентов и их баллами (номер студента 1, баллы студента 1, номер студента 2, баллы студента 2 и т. д.). Если два и более студента получили максимальный балл, то выводятся номера этих студентов через '-' (в том порядке, в котором они записаны в строке).\n",
    "\n",
    "Выходные данные: номер (трёхзначный номер студента/студентов, который получил максимальный балл)\n",
    "\n",
    "Пример:\n",
    "\n",
    "Входные данные:\n",
    "\n",
    "student_10221student_00246student_90789\n",
    "\n",
    "Выходные данные:\n",
    "\n",
    "907"
   ]
  },
  {
   "cell_type": "markdown",
   "id": "ebbb9cff-11b1-49d5-af44-02601d06ac63",
   "metadata": {},
   "source": [
    "2. С клавиатуры вводятся радиус окружности и сторона квадрата (первым вводится радиус окружности). Необходимо рассчитать длину окружности, площадь круга ограниченного этой окружностью и площадь квадрата. На экран выводятся результаты вычисления в следующем виде:\n",
    "'Длина окружности равно <длина окружности>. \n",
    "Площадь круга составляет <отношение площади круга к площади квадрата> % от площади квадрата.' Значения округляются до сотых. Вывод на экран должен быть реализован в одном print().\n",
    "\n",
    "Входные данные:\n",
    "\n",
    "2 3\n",
    "\n",
    "Выходные данные:\n",
    "\n",
    "Длина окружности равно 12.57.\n",
    "Площадь круга составляет 139.63% от площади квадрата."
   ]
  },
  {
   "cell_type": "markdown",
   "id": "5e57f4bb-9106-4353-919a-7f6b01d97131",
   "metadata": {},
   "source": [
    "3. Напишите функцию, которая принимает на вход две строки и выводит одну строку, в которой для первых 2-х символов строк последовательность символом обратная и строки разделены символом '-'.\n",
    "\n",
    "Пример:\n",
    "\n",
    "Входные данные:\n",
    "\n",
    "abc\n",
    "xyzqw\n",
    "\n",
    "Выходные данные:\n",
    "\n",
    "bac-yxzqw"
   ]
  },
  {
   "cell_type": "markdown",
   "id": "14f99e1c-79f1-4a55-a526-1863b95b7455",
   "metadata": {},
   "source": [
    "4. Напишите функцию, которая переводит строку введённую с клавиатуры к написанию заглавными буквами если как минимум 3 из 4-х первых символов строки заглавные. Если длина строки меньше 4-х, то проверяется условие, что все символы заглавные. Если это условие не выполнено, то выводится исходная строка.\n",
    "\n",
    "Пример:\n",
    "\n",
    "Входные данные:\n",
    "\n",
    "PYThon3\n",
    "\n",
    "Выходные данные:\n",
    "\n",
    "PYTHON3"
   ]
  },
  {
   "cell_type": "markdown",
   "id": "6c2766f3-5ded-48bd-adac-82c085ad0ae3",
   "metadata": {},
   "source": [
    "5. Напишите функцию, которая принимает на вход строку и tag для HTML и выводит строку заключённую в нужный тег. К HTML элементам (тегам) отнесите следующие: a, abbr, b, body, caption, cite, code, div, form, h1, h2, h3, h4, h5, h6, header, i и s. Если в качестве тега введен отличный от вариантов выше, то вывести \"Введён неверный тег\".\n",
    "\n",
    "Пример:\n",
    "\n",
    "Входные данные:\n",
    "\n",
    "i\n",
    "\n",
    "Python\n",
    "\n",
    "Выходные данные:\n",
    "\n",
    "<i>Python</i>"
   ]
  },
  {
   "cell_type": "markdown",
   "id": "8fde4134-fce0-4e33-8b25-139d8b65350b",
   "metadata": {},
   "source": [
    "6. С клавиатуры вводится строка. Если длина строки меньше или равна 2, то выводится ASCII код 1-го символа (т. е. с индексом 0), если больше 2, но меньше 10, то выводится сумма ASCII кодов 1-го (c 0-м индексом), серединного (если символов четной число, то берётся символ слева) и последнего. В случае, если длина строки более 10, то выводится ASCII код последнего символа.\n",
    "\n",
    "Пример:\n",
    "\n",
    "Входные данные:\n",
    "\n",
    "ab\n",
    "\n",
    "Выходные данные:\n",
    "\n",
    "97"
   ]
  },
  {
   "cell_type": "code",
   "execution_count": null,
   "id": "7f7bb867-cdb7-4bd3-ac99-16b80a4e6dca",
   "metadata": {},
   "outputs": [],
   "source": []
  }
 ],
 "metadata": {
  "kernelspec": {
   "display_name": "Python 3 (ipykernel)",
   "language": "python",
   "name": "python3"
  },
  "language_info": {
   "codemirror_mode": {
    "name": "ipython",
    "version": 3
   },
   "file_extension": ".py",
   "mimetype": "text/x-python",
   "name": "python",
   "nbconvert_exporter": "python",
   "pygments_lexer": "ipython3",
   "version": "3.12.3"
  }
 },
 "nbformat": 4,
 "nbformat_minor": 5
}
